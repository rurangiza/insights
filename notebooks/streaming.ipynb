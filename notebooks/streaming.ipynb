{
 "cells": [
  {
   "cell_type": "markdown",
   "metadata": {},
   "source": [
    "# Streaming\n",
    "\n",
    "All Runnable objects implement a sync method called stream and an async variant called astream.\n",
    "\n",
    "These methods are designed to stream the final output in chunks, yielding each chunk as soon as it is available.\n",
    "\n",
    "Streaming is only possible if all steps in the program know how to process an input stream; i.e., process an input chunk one at a time, and yield a corresponding output chunk.\n",
    "\n",
    "The complexity of this processing can vary, from straightforward tasks like emitting tokens produced by an LLM, to more challenging ones like streaming parts of JSON results before the entire JSON is complete."
   ]
  },
  {
   "cell_type": "code",
   "execution_count": 1,
   "metadata": {},
   "outputs": [
    {
     "data": {
      "text/plain": [
       "True"
      ]
     },
     "execution_count": 1,
     "metadata": {},
     "output_type": "execute_result"
    }
   ],
   "source": [
    "import os\n",
    "import sys\n",
    "# %load_ext autoreload\n",
    "# %autoreload 2\n",
    "cwd = os.getcwd()\n",
    "parent_dir = os.path.dirname(cwd)\n",
    "sys.path.append(parent_dir)\n",
    "sys.path.append('..')\n",
    "from dotenv import load_dotenv\n",
    "from typing import List, Tuple\n",
    "from langchain_core.messages  import AIMessageChunk\n",
    "\n",
    "from srcs.llm import LLM\n",
    "\n",
    "load_dotenv()"
   ]
  },
  {
   "cell_type": "code",
   "execution_count": 3,
   "metadata": {},
   "outputs": [
    {
     "name": "stdout",
     "output_type": "stream",
     "text": [
      "Elon Musk is a billionaire entrepreneur and CEO of multiple companies, including Tesla Inc., SpaceX, Neuralink, and The Boring Company. He is known for his work in advancing technology and innovation in industries such as electric vehicles, space exploration, and artificial intelligence. Musk is also involved in various philanthropic efforts and has a significant influence on the tech industry."
     ]
    }
   ],
   "source": [
    "model = LLM()\n",
    "question = \"who's elon musk?\"\n",
    "r: Tuple[str, List[AIMessageChunk]] = model.stream(question)"
   ]
  },
  {
   "cell_type": "code",
   "execution_count": 4,
   "metadata": {},
   "outputs": [
    {
     "data": {
      "text/plain": [
       "tuple"
      ]
     },
     "execution_count": 4,
     "metadata": {},
     "output_type": "execute_result"
    }
   ],
   "source": [
    "type(r)"
   ]
  },
  {
   "cell_type": "code",
   "execution_count": 5,
   "metadata": {},
   "outputs": [
    {
     "name": "stdout",
     "output_type": "stream",
     "text": [
      "Elon Musk is a billionaire entrepreneur and CEO of multiple companies, including Tesla Inc., SpaceX, Neuralink, and The Boring Company. He is known for his work in advancing technology and innovation in industries such as electric vehicles, space exploration, and artificial intelligence. Musk is also involved in various philanthropic efforts and has a significant influence on the tech industry.\n"
     ]
    }
   ],
   "source": [
    "print(r[0])"
   ]
  },
  {
   "cell_type": "code",
   "execution_count": 7,
   "metadata": {},
   "outputs": [
    {
     "name": "stdout",
     "output_type": "stream",
     "text": [
      "[AIMessageChunk(content='', additional_kwargs={}, response_metadata={}, id='run-edeb4d0d-5a58-49dc-a0aa-121e03c0f1dc'), AIMessageChunk(content='El', additional_kwargs={}, response_metadata={}, id='run-edeb4d0d-5a58-49dc-a0aa-121e03c0f1dc'), AIMessageChunk(content='on', additional_kwargs={}, response_metadata={}, id='run-edeb4d0d-5a58-49dc-a0aa-121e03c0f1dc'), AIMessageChunk(content=' Musk', additional_kwargs={}, response_metadata={}, id='run-edeb4d0d-5a58-49dc-a0aa-121e03c0f1dc'), AIMessageChunk(content=' is', additional_kwargs={}, response_metadata={}, id='run-edeb4d0d-5a58-49dc-a0aa-121e03c0f1dc'), AIMessageChunk(content=' a', additional_kwargs={}, response_metadata={}, id='run-edeb4d0d-5a58-49dc-a0aa-121e03c0f1dc'), AIMessageChunk(content=' billionaire', additional_kwargs={}, response_metadata={}, id='run-edeb4d0d-5a58-49dc-a0aa-121e03c0f1dc'), AIMessageChunk(content=' entrepreneur', additional_kwargs={}, response_metadata={}, id='run-edeb4d0d-5a58-49dc-a0aa-121e03c0f1dc'), AIMessageChunk(content=' and', additional_kwargs={}, response_metadata={}, id='run-edeb4d0d-5a58-49dc-a0aa-121e03c0f1dc'), AIMessageChunk(content=' CEO', additional_kwargs={}, response_metadata={}, id='run-edeb4d0d-5a58-49dc-a0aa-121e03c0f1dc')]\n"
     ]
    },
    {
     "data": {
      "text/plain": [
       "\" \\nAIMessageChunk = {\\n    'content': str,\\n    'additional_kwargs': dict,\\n    'response_metadata': dict,\\n    'id': str\\n}\\n\""
      ]
     },
     "execution_count": 7,
     "metadata": {},
     "output_type": "execute_result"
    }
   ],
   "source": [
    "print(r[1][:10])\n",
    "\"\"\" \n",
    "AIMessageChunk = {\n",
    "    'content': str,\n",
    "    'additional_kwargs': dict,\n",
    "    'response_metadata': dict,\n",
    "    'id': str\n",
    "}\n",
    "\"\"\""
   ]
  },
  {
   "cell_type": "markdown",
   "metadata": {},
   "source": [
    "Message chunks are additive by design -- one can simply add them up to get the state of the response so far!"
   ]
  },
  {
   "cell_type": "code",
   "execution_count": 17,
   "metadata": {},
   "outputs": [
    {
     "name": "stdout",
     "output_type": "stream",
     "text": [
      "content='Elon Musk' additional_kwargs={} response_metadata={} id='run-edeb4d0d-5a58-49dc-a0aa-121e03c0f1dc'\n"
     ]
    }
   ],
   "source": [
    "result = r[1][0] + r[1][1] + r[1][2] + r[1][3]\n",
    "\n",
    "print(result)"
   ]
  },
  {
   "cell_type": "code",
   "execution_count": null,
   "metadata": {},
   "outputs": [],
   "source": []
  }
 ],
 "metadata": {
  "kernelspec": {
   "display_name": ".venv",
   "language": "python",
   "name": "python3"
  },
  "language_info": {
   "codemirror_mode": {
    "name": "ipython",
    "version": 3
   },
   "file_extension": ".py",
   "mimetype": "text/x-python",
   "name": "python",
   "nbconvert_exporter": "python",
   "pygments_lexer": "ipython3",
   "version": "3.11.4"
  }
 },
 "nbformat": 4,
 "nbformat_minor": 2
}
